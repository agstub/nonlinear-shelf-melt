{
 "cells": [
  {
   "cell_type": "markdown",
   "id": "distant-arctic",
   "metadata": {},
   "source": [
    "Here, we outline a viscoelastic modification of the viscous contact\n",
    "problem in the repository: https://github.com/agstub/grounding-line-methods.\n",
    "\n",
    "Momentum balance and incompressibility are given by\n",
    "\\begin{eqnarray}\n",
    "-\\nabla \\cdot \\mathbf{\\sigma}(\\mathbf{u},p) &&= \\rho_i\\mathbf{g}  \\\\\n",
    "\\nabla \\cdot \\mathbf{u} &&= 0. \n",
    "\\end{eqnarray}\n",
    "The stress is related to pressure and the deviatoric stress through\n",
    "\\begin{eqnarray}\n",
    "\\mathbf{\\sigma}(\\mathbf{u},p)&&= -p\\mathsf{I} + \\mathbf{\\tau},\n",
    "\\end{eqnarray}\n",
    "where $\\mathbf{\\tau}$ is the deviatoric stress tensor. Conservation of angular momentum\n",
    "implies that the deviatoric stress tensor must satisfy\n",
    "\\begin{equation}\n",
    "\\tau = \\tau^T.\n",
    "\\end{equation}\n",
    "\n",
    "The upper-convected Maxwell viscoelastic model takes the form\n",
    "\\begin{equation}\n",
    "\\mathbf{\\tau} + \\frac{\\eta}{G} \\overset{\\triangledown}{\\tau} = 2\\eta(\\tau)\\mathsf{D}(\\mathbf{u}) \\label{maxwell}\n",
    "\\end{equation}\n",
    "where\n",
    "\\begin{eqnarray}\n",
    "\\mathsf{D}(\\mathbf{u}) &&= \\frac{1}{2}\\left[\\nabla \\mathbf{u} + (\\nabla \\mathbf{u})^\\mathrm{T}  \\right] \n",
    "\\end{eqnarray}\n",
    "is the strain rate and $\\eta / G$ is the relaxation time\n",
    "($G$ is the shear modulus and $\\eta$ is viscosity).\n",
    "\n",
    "The upper-convected time derivative is defined by\n",
    "\\begin{equation}\n",
    "\\overset{\\triangledown}{\\tau} = \\frac{\\partial \\tau}{\\partial t} + \\mathbf{u}\\cdot\\nabla\\tau -(\\nabla\\mathbf{u})\\tau -\\tau(\\nabla\\mathbf{u})^T.\n",
    "\\end{equation}\n",
    "\n",
    "The viscosity is related to the deviatoric stress through Glen's law\n",
    "\\begin{equation}\n",
    "\\eta(\\mathbf{\\tau}) = \\frac{1}{2A|\\mathbf{\\tau}|^{n-1}}.\n",
    "\\end{equation}\n",
    "\n",
    "In the upper-convected time derivative, we make the backward Euler approximation \n",
    "\\begin{equation}\n",
    "\\frac{\\partial \\mathbf{\\tau}}{\\partial t}(\\mathbf{x},t)\n",
    "\\approx \\frac{\\mathbf{\\tau}(\\mathbf{x},t)-\\mathbf{\\tau}(\\mathbf{x},t-\\Delta t) }{\\Delta t}. \n",
    "\\end{equation}\n",
    "\n",
    "For brevity, we let $(\\cdot,\\cdot)$ denote the inner product (or duality pairing) of scalars, vectors, and tensors over the domain $\\Omega$.\n",
    "We use a mixed finite element method to solve the above problem: Find $(\\tau,\\mathbf{u},p)$ such that\n",
    "\\begin{equation}\n",
    " (\\tau,\\nabla\\mathbf{v})-(\\rho_i\\mathbf{g},\\mathbf{v}) - (p,\\nabla\\cdot\\mathbf{v})+(\\nabla\\cdot\\mathbf{u},q) + (\\mathbf{\\tau} + \\frac{\\eta(\\tau)}{G} \\overset{\\triangledown}{\\tau} - 2\\eta(\\tau)\\mathsf{D}(\\mathbf{u}),\\mu) + \\text{BC's} = 0\n",
    "\\end{equation}\n",
    "for all $(\\mu,\\mathbf{v},q)$ (where $\\mu$ is a tensor-valued test function). \n",
    "\n",
    "The symmetry constraint $\\tau=\\tau^T$\n",
    "is incorporated directly in the finite element function space.\n",
    "The \"BC's\" terms include a sliding law at the base, water pressure condition at the ice-water boundary, and a penalty term for enforcing the contact conditions. See the following reference for more details:\n",
    ">Stubblefield, A. G., Spiegelman, M., & Creyts, T. T. (2021). Variational formulation of marine ice-sheet and subglacial-lake grounding-line dynamics. Journal of Fluid Mechanics, 919."
   ]
  }
 ],
 "metadata": {
  "kernelspec": {
   "display_name": "Python 3",
   "language": "python",
   "name": "python3"
  },
  "language_info": {
   "codemirror_mode": {
    "name": "ipython",
    "version": 3
   },
   "file_extension": ".py",
   "mimetype": "text/x-python",
   "name": "python",
   "nbconvert_exporter": "python",
   "pygments_lexer": "ipython3",
   "version": "3.8.10"
  }
 },
 "nbformat": 4,
 "nbformat_minor": 5
}
